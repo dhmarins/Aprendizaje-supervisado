{
 "cells": [
  {
   "cell_type": "code",
   "execution_count": 5,
   "id": "a09b4493-f62c-4073-980c-c4eadb0a2d59",
   "metadata": {},
   "outputs": [],
   "source": [
    "# Importar las bibliotecas necesarias\n",
    "import pandas as pd\n",
    "from sklearn.neighbors import KNeighborsClassifier\n",
    "from sklearn.model_selection import train_test_split\n",
    "from sklearn.metrics import accuracy_score"
   ]
  },
  {
   "cell_type": "code",
   "execution_count": 7,
   "id": "b329b064-ebad-4c68-b7e4-9f2378e0bdee",
   "metadata": {},
   "outputs": [],
   "source": [
    "# Cargar el conjunto de datos en un data frame\n",
    "pd.read_csv(\"./covid.csv\")\n",
    "df = pd.read_csv(\"./covid.csv\")"
   ]
  },
  {
   "cell_type": "code",
   "execution_count": 8,
   "id": "6e35db81-c7aa-4d4d-baa2-b1b1dfc70b56",
   "metadata": {},
   "outputs": [],
   "source": [
    "# Se eliminan columnas que nbo se vana a usar\n",
    "delete_columns = ['id', 'patient_type', 'entry_date', 'date_symptoms', 'date_died', 'other_disease', 'icu']\n",
    "df.drop(delete_columns, axis=1, inplace=True)"
   ]
  },
  {
   "cell_type": "code",
   "execution_count": 9,
   "id": "d9ddd09c-cfb5-4f90-bc29-8d8620682f7a",
   "metadata": {},
   "outputs": [],
   "source": [
    "# Se filtran las filas y se eliminan las que tengan valores en 3 (los que no recibieron el resultado) en la columna (covid_res)\n",
    "df = df[df['covid_res'] != 3]\n",
    "\n",
    "# Se filtran las filas y se eliminan las que tengan valores en 99 (sin información) en la columna (contact_other_covid)\n",
    "df = df[df['contact_other_covid'] != 99]\n",
    "\n",
    "# Se filtran las filas y se eliminan las que tengan valores en 98 (sin información) en la columna (renal_chronic)\n",
    "df = df[df['renal_chronic'] != 98]\n",
    "\n",
    "# Se filtran las filas y se eliminan las que tengan valores en 98 (sin información) en la columna (obesity)\n",
    "df = df[df['obesity'] != 98]\n",
    "\n",
    "# Se filtran las filas y se eliminan las que tengan valores en 98 (sin información) en la columna (tobacco)\n",
    "df = df[df['tobacco'] != 98]\n",
    "\n",
    "# Se filtran las filas y se eliminan las que tengan valores en 98 (sin información) en la columna (cardiovascular)\n",
    "df = df[df['cardiovascular'] != 98]\n",
    "\n",
    "# Se filtran las filas y se eliminan las que tengan valores en 98 (sin información) en la columna (hypertension)\n",
    "df = df[df['hypertension'] != 98]\n",
    "\n",
    "# Se filtran las filas y se eliminan las que tengan valores en 98 (sin información) en la columna (inmsupr)\n",
    "df = df[df['inmsupr'] != 98]\n",
    "\n",
    "# Se filtran las filas y se eliminan las que tengan valores en 98 (sin información) en la columna (asthma)\n",
    "df = df[df['asthma'] != 98]\n",
    "\n",
    "# Se filtran las filas y se eliminan las que tengan valores en 98 (sin información) en la columna (copd)\n",
    "df = df[df['copd'] != 98]\n",
    "\n",
    "# Se filtran las filas y se eliminan las que tengan valores en 97 (sin información) en la columna (copd)\n",
    "df = df[df['pregnancy'] != 97]\n",
    "\n",
    "# Se filtran las filas y se eliminan las que tengan valores en 99 (sin información) en la columna (pneumonia)\n",
    "df = df[df['pneumonia'] != 99]\n",
    "\n",
    "# Se filtran las filas y se eliminan las que tengan valores en 97 (sin información) en la columna (intubed)\n",
    "df = df[df['intubed'] != 97]"
   ]
  },
  {
   "cell_type": "code",
   "execution_count": 10,
   "id": "a05e0b8d-6725-4135-b86d-e752a26ea61b",
   "metadata": {},
   "outputs": [],
   "source": [
    "# Se separan las características de la variable objetivo\n",
    "X = df.drop('covid_res', axis=1)\n",
    "y = df['covid_res']"
   ]
  },
  {
   "cell_type": "code",
   "execution_count": 11,
   "id": "1ea9fb16-9b2a-47c6-9b29-971d378f75e6",
   "metadata": {},
   "outputs": [],
   "source": [
    "# Dividir el conjunto de datos para entrenamiento y prueba\n",
    "X_train, X_test, y_train, y_test = train_test_split(X, y, test_size = 0.3, random_state = 42)"
   ]
  },
  {
   "cell_type": "code",
   "execution_count": 12,
   "id": "4d6c9a75-ffde-4c02-81d6-527afb847216",
   "metadata": {},
   "outputs": [
    {
     "data": {
      "text/plain": [
       "KNeighborsClassifier()"
      ]
     },
     "execution_count": 12,
     "metadata": {},
     "output_type": "execute_result"
    }
   ],
   "source": [
    "# Se crea un modelo k vecinos más cercanos\n",
    "modelo = KNeighborsClassifier(n_neighbors = 5)\n",
    "modelo.fit(X_train, y_train)"
   ]
  },
  {
   "cell_type": "code",
   "execution_count": 13,
   "id": "a3051c66-0505-41e4-8815-fbfde0ead08a",
   "metadata": {},
   "outputs": [
    {
     "name": "stderr",
     "output_type": "stream",
     "text": [
      "C:\\Users\\rmusr0002\\Anaconda3\\lib\\site-packages\\sklearn\\neighbors\\_classification.py:228: FutureWarning: Unlike other reduction functions (e.g. `skew`, `kurtosis`), the default behavior of `mode` typically preserves the axis it acts along. In SciPy 1.11.0, this behavior will change: the default value of `keepdims` will become False, the `axis` over which the statistic is taken will be eliminated, and the value None will no longer be accepted. Set `keepdims` to True or False to avoid this warning.\n",
      "  mode, _ = stats.mode(_y[neigh_ind, k], axis=1)\n"
     ]
    }
   ],
   "source": [
    "# Evaluar el modelo de conjunto de datos de prueba para hacer predicciones\n",
    "y_pred = modelo.predict(X_test)"
   ]
  },
  {
   "cell_type": "code",
   "execution_count": 14,
   "id": "13d11bdc-5593-42d2-ba04-8659f86d0fcc",
   "metadata": {},
   "outputs": [
    {
     "name": "stdout",
     "output_type": "stream",
     "text": [
      "La precisión del modelo es: 0.6313319307331283\n"
     ]
    }
   ],
   "source": [
    "# Evaluar el desempeño del modelo\n",
    "precision = accuracy_score(y_test, y_pred)\n",
    "print(\"La precisión del modelo es:\", precision)"
   ]
  },
  {
   "cell_type": "code",
   "execution_count": 15,
   "id": "522c79f2-12fc-404b-bb91-291bed2719b1",
   "metadata": {},
   "outputs": [
    {
     "name": "stdout",
     "output_type": "stream",
     "text": [
      "[[2762  825]\n",
      " [1453 1139]]\n"
     ]
    },
    {
     "name": "stderr",
     "output_type": "stream",
     "text": [
      "C:\\Users\\rmusr0002\\Anaconda3\\lib\\site-packages\\sklearn\\neighbors\\_classification.py:228: FutureWarning: Unlike other reduction functions (e.g. `skew`, `kurtosis`), the default behavior of `mode` typically preserves the axis it acts along. In SciPy 1.11.0, this behavior will change: the default value of `keepdims` will become False, the `axis` over which the statistic is taken will be eliminated, and the value None will no longer be accepted. Set `keepdims` to True or False to avoid this warning.\n",
      "  mode, _ = stats.mode(_y[neigh_ind, k], axis=1)\n"
     ]
    }
   ],
   "source": [
    "from sklearn.neighbors import KNeighborsClassifier\n",
    "from sklearn.metrics import confusion_matrix\n",
    "\n",
    "# Definir las columnas que se utilizarán como características\n",
    "features = ['sex', 'intubed', 'pneumonia', 'age', 'pregnancy', 'diabetes', 'copd', 'asthma', 'inmsupr', 'hypertension', 'cardiovascular', 'obesity', 'renal_chronic', 'tobacco', 'contact_other_covid',]\n",
    "\n",
    "# Se define la columna objetivo\n",
    "target = 'covid_res'\n",
    "\n",
    "# Se divide el conjunto de datos en características x y objetivo y\n",
    "X = df[features]\n",
    "y = df[target]\n",
    "\n",
    "# Dividir los datos de entrenamiento y test\n",
    "X_train, X_test, y_train, y_test = train_test_split(X, y, test_size = 0.3, random_state = 42)\n",
    "\n",
    "# Crear clasificación KNN\n",
    "knn = KNeighborsClassifier(n_neighbors=5)\n",
    "\n",
    "# Entrenar la clasificación\n",
    "knn.fit(X_train, y_train)\n",
    "\n",
    "# Hacer predicciones de prueba\n",
    "y_pred = knn.predict(X_test)\n",
    "\n",
    "# Se crea la matriz de confusión\n",
    "matriz = confusion_matrix(y_test, y_pred)\n",
    "\n",
    "print(matriz)"
   ]
  },
  {
   "cell_type": "code",
   "execution_count": 17,
   "id": "70d2c67a-e57d-4896-864b-a86f63d0a020",
   "metadata": {},
   "outputs": [
    {
     "data": {
      "image/png": "[encoded data removed]",
      "text/plain": [
       "<Figure size 600x400 with 2 Axes>"
      ]
     },
     "metadata": {},
     "output_type": "display_data"
    }
   ],
   "source": [
    "import matplotlib.pyplot as plt\n",
    "import seaborn as sns\n",
    "\n",
    "# Crear una figura para la matriz de confusión\n",
    "fig, ax = plt.subplots(figsize = (6, 4))\n",
    "\n",
    "# Se crea la matriz de confusión utilizando la función heatmap (seaborn)\n",
    "sns.heatmap(matriz, annot = True, cmap = \"Blues\", fmt = \"d\", xticklabels = [\"Negativo\", \"Positivo\"], yticklabels = [\"Negativo\", \"Positivo\"])\n",
    "\n",
    "# Configurar las etiquetas ejes\n",
    "ax.set_xlabel('Predicción')\n",
    "ax.set_ylabel('Valor Real')\n",
    "ax.set_title('Matriz de confusión')\n",
    "\n",
    "# Mostrar la figura\n",
    "plt.show()"
   ]
  },
  {
   "cell_type": "code",
   "execution_count": null,
   "id": "49d5a87c-59d8-4fd4-ac47-ca794587404b",
   "metadata": {},
   "outputs": [],
   "source": []
  }
 ],
 "metadata": {
  "kernelspec": {
   "display_name": "Python 3 (ipykernel)",
   "language": "python",
   "name": "python3"
  },
  "language_info": {
   "codemirror_mode": {
    "name": "ipython",
    "version": 3
   },
   "file_extension": ".py",
   "mimetype": "text/x-python",
   "name": "python",
   "nbconvert_exporter": "python",
   "pygments_lexer": "ipython3",
   "version": "3.9.13"
  }
 },
 "nbformat": 4,
 "nbformat_minor": 5
}
