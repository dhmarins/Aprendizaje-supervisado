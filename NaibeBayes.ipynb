{
 "cells": [
  {
   "cell_type": "code",
   "execution_count": 3,
   "id": "5d7fac22-36da-4594-bd9c-c034b20dc015",
   "metadata": {},
   "outputs": [],
   "source": [
    "# Importar las bibliotecas necesarias\n",
    "import pandas as pd\n",
    "from sklearn.naive_bayes import GaussianNB\n",
    "from sklearn.model_selection import train_test_split\n",
    "from sklearn.metrics import accuracy_score\n",
    "\n",
    "# Cargar el conjunto de datos en un data frame\n",
    "pd.read_csv(\"./covid.csv\")\n",
    "df = pd.read_csv(\"./covid.csv\")\n",
    "\n",
    "# Se eliminan columnas que nbo se vana a usar\n",
    "delete_columns = ['id', 'patient_type', 'entry_date', 'date_symptoms', 'date_died', 'other_disease', 'icu']\n",
    "df.drop(delete_columns, axis=1, inplace=True)\n",
    "\n",
    "# Se filtran las filas y se eliminan las que tengan valores en 3 (los que no recibieron el resultado) en la columna (covid_res)\n",
    "df = df[df['covid_res'] != 3]\n",
    "\n",
    "# Se filtran las filas y se eliminan las que tengan valores en 99 (sin información) en la columna (contact_other_covid)\n",
    "df = df[df['contact_other_covid'] != 99]\n",
    "\n",
    "# Se filtran las filas y se eliminan las que tengan valores en 98 (sin información) en la columna (renal_chronic)\n",
    "df = df[df['renal_chronic'] != 98]\n",
    "\n",
    "# Se filtran las filas y se eliminan las que tengan valores en 98 (sin información) en la columna (obesity)\n",
    "df = df[df['obesity'] != 98]\n",
    "\n",
    "# Se filtran las filas y se eliminan las que tengan valores en 98 (sin información) en la columna (tobacco)\n",
    "df = df[df['tobacco'] != 98]\n",
    "\n",
    "# Se filtran las filas y se eliminan las que tengan valores en 98 (sin información) en la columna (cardiovascular)\n",
    "df = df[df['cardiovascular'] != 98]\n",
    "\n",
    "# Se filtran las filas y se eliminan las que tengan valores en 98 (sin información) en la columna (hypertension)\n",
    "df = df[df['hypertension'] != 98]\n",
    "\n",
    "# Se filtran las filas y se eliminan las que tengan valores en 98 (sin información) en la columna (inmsupr)\n",
    "df = df[df['inmsupr'] != 98]\n",
    "\n",
    "# Se filtran las filas y se eliminan las que tengan valores en 98 (sin información) en la columna (asthma)\n",
    "df = df[df['asthma'] != 98]\n",
    "\n",
    "# Se filtran las filas y se eliminan las que tengan valores en 98 (sin información) en la columna (copd)\n",
    "df = df[df['copd'] != 98]\n",
    "\n",
    "# Se filtran las filas y se eliminan las que tengan valores en 97 (sin información) en la columna (copd)\n",
    "df = df[df['pregnancy'] != 97]\n",
    "\n",
    "# Se filtran las filas y se eliminan las que tengan valores en 99 (sin información) en la columna (pneumonia)\n",
    "df = df[df['pneumonia'] != 99]\n",
    "\n",
    "# Se filtran las filas y se eliminan las que tengan valores en 97 (sin información) en la columna (intubed)\n",
    "df = df[df['intubed'] != 97]"
   ]
  },
  {
   "cell_type": "code",
   "execution_count": 9,
   "id": "bfaf8101-8c34-4648-bf3d-b0d8e381a7c5",
   "metadata": {},
   "outputs": [],
   "source": [
    "# Crear un objeto GaussianNB\n",
    "nb = GaussianNB()"
   ]
  },
  {
   "cell_type": "code",
   "execution_count": 10,
   "id": "b35c5c0c-9a84-4c5c-abe5-7ac2479fb0c4",
   "metadata": {},
   "outputs": [],
   "source": [
    "# Se separan las características de la variable objetivo\n",
    "X = df.drop('covid_res', axis=1)\n",
    "y = df['covid_res']"
   ]
  },
  {
   "cell_type": "code",
   "execution_count": 11,
   "id": "7edd1ff2-fb82-4ba9-8440-75585d41917b",
   "metadata": {},
   "outputs": [],
   "source": [
    "# Dividir el conjunto de datos para entrenamiento y prueba\n",
    "X_train, X_test, y_train, y_test = train_test_split(X, y, test_size = 0.3, random_state = 42)"
   ]
  },
  {
   "cell_type": "code",
   "execution_count": 12,
   "id": "4e1b942c-44fc-459a-af44-d153056d0b5d",
   "metadata": {},
   "outputs": [
    {
     "data": {
      "text/plain": [
       "GaussianNB()"
      ]
     },
     "execution_count": 12,
     "metadata": {},
     "output_type": "execute_result"
    }
   ],
   "source": [
    "nb.fit(X_train, y_train)"
   ]
  },
  {
   "cell_type": "code",
   "execution_count": 14,
   "id": "3515531e-a176-4b26-aa3e-8cf35fb496ea",
   "metadata": {},
   "outputs": [],
   "source": [
    "# Evaluar el modelo de conjunto de datos de prueba para hacer predicciones\n",
    "y_pred = nb.predict(X_test)"
   ]
  },
  {
   "cell_type": "code",
   "execution_count": 16,
   "id": "2e469ccb-b257-4c84-98bb-85380a80e81d",
   "metadata": {},
   "outputs": [
    {
     "name": "stdout",
     "output_type": "stream",
     "text": [
      "La precisión del modelo es: 63.59%\n"
     ]
    }
   ],
   "source": [
    "# Evaluar el desempeño del modelo\n",
    "precision = accuracy_score(y_test, y_pred)\n",
    "print(\"La precisión del modelo es: {:.2f}%\".format(precision * 100))"
   ]
  },
  {
   "cell_type": "code",
   "execution_count": 19,
   "id": "acefed0a-56ed-4e86-a7ec-8c3ac41a1004",
   "metadata": {},
   "outputs": [
    {
     "data": {
      "image/png": "[encoded data removed]",
      "text/plain": [
       "<Figure size 640x480 with 2 Axes>"
      ]
     },
     "metadata": {},
     "output_type": "display_data"
    }
   ],
   "source": [
    "import matplotlib.pyplot as plt\n",
    "from sklearn.metrics import confusion_matrix\n",
    "import seaborn as sns\n",
    "\n",
    "# se obtinene las predicciones del conjuto de prueba\n",
    "y_pred = nb.predict(X_test)\n",
    "\n",
    "# Se crea la matriz de confusión utilizando la función heatmap (seaborn)\n",
    "cm = confusion_matrix(y_test, y_pred)\n",
    "\n",
    "# Configurar las etiquetas ejes\n",
    "sns.heatmap(cm, annot = True, fmt = 'g')\n",
    "plt.xlabel('Predicción')\n",
    "plt.ylabel('Valor actual')\n",
    "plt.title('Matriz de confusión')\n",
    "\n",
    "# Mostrar la figura\n",
    "plt.show()"
   ]
  },
  {
   "cell_type": "code",
   "execution_count": 21,
   "id": "78012bf3-3947-4dd8-af02-3fe11ef86910",
   "metadata": {},
   "outputs": [],
   "source": [
    "# Se definen las variables del usuario para prueba\n",
    "paciente = pd.DataFrame({\n",
    "    'sex': 2,\n",
    "    'intubed': 2,\n",
    "    'pneumonia': 2,\n",
    "    'age': 50,\n",
    "    'pregnancy': 2,\n",
    "    'diabetes': 2,\n",
    "    'copd': 2,\n",
    "    'asthma': 2,\n",
    "    'inmsupr': 2,\n",
    "    'hypertension': 2,\n",
    "    'cardiovascular': 2,\n",
    "    'obesity': 2,\n",
    "    'renal_chronic': 2,\n",
    "    'tobacco': 2,\n",
    "    'contact_other_covid': 2\n",
    "}, index = [0])"
   ]
  },
  {
   "cell_type": "code",
   "execution_count": 22,
   "id": "5ef7ae08-07a3-4610-a8d7-9654d3eccbe1",
   "metadata": {},
   "outputs": [
    {
     "name": "stdout",
     "output_type": "stream",
     "text": [
      "LA probabilidad que el paciete tenga Covid 19 de acuerdo a los sintomas es 28.85%\n"
     ]
    }
   ],
   "source": [
    "# Se realiza predicción para el usuario segun datos ingresados\n",
    "p = nb.predict_proba(paciente)[0][1]\n",
    "\n",
    "# Mostrar probabilidad que el paciente tenga covid 19\n",
    "print(\"LA probabilidad que el paciete tenga Covid 19 de acuerdo a los sintomas es {:.2f}%\".format(p * 100))"
   ]
  },
  {
   "cell_type": "code",
   "execution_count": null,
   "id": "41a4f24f-3a59-4457-876c-d9e3fd8fbf74",
   "metadata": {},
   "outputs": [],
   "source": []
  }
 ],
 "metadata": {
  "kernelspec": {
   "display_name": "Python 3 (ipykernel)",
   "language": "python",
   "name": "python3"
  },
  "language_info": {
   "codemirror_mode": {
    "name": "ipython",
    "version": 3
   },
   "file_extension": ".py",
   "mimetype": "text/x-python",
   "name": "python",
   "nbconvert_exporter": "python",
   "pygments_lexer": "ipython3",
   "version": "3.9.13"
  }
 },
 "nbformat": 4,
 "nbformat_minor": 5
}
